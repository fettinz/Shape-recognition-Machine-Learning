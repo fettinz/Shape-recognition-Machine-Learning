{
 "cells": [
  {
   "cell_type": "code",
   "execution_count": 72,
   "id": "311c93ae",
   "metadata": {},
   "outputs": [],
   "source": [
    "import matplotlib.pyplot as plt\n",
    "import numpy as np\n",
    "import csv\n",
    "from sklearn.preprocessing import StandardScaler\n",
    "from sklearn.model_selection import train_test_split\n",
    "import pandas as pd"
   ]
  },
  {
   "cell_type": "markdown",
   "id": "b53db32a",
   "metadata": {},
   "source": [
    "**Codice generazione forme singole**"
   ]
  },
  {
   "cell_type": "code",
   "execution_count": 73,
   "id": "7cc566ca",
   "metadata": {},
   "outputs": [],
   "source": [
    "def to_stringa(punti, forma):\n",
    "    return \";\".join(f\"{x:.3f}:{y:.3f}\" for x, y in punti)+','+forma\n",
    "\n",
    "def genera_segmento(x0, y0, theta, l, n_punti=50, rumore_std = 0.01):\n",
    "    # Calcola le coordinate dei due estremi del segmento\n",
    "    x1 = x0 + l * np.cos(theta)\n",
    "    y1 = y0 + l * np.sin(theta)\n",
    "    x2 = x0 - l * np.cos(theta)\n",
    "    y2 = y0 - l * np.sin(theta)\n",
    "    # Interpolazione lineare tra i due estremi per ottenere i punti\n",
    "    t = np.linspace(0, 1, n_punti)\n",
    "    x = x1 + t * (x2 - x1)\n",
    "    y = y1 + t * (y2 - y1)\n",
    "    # Aggiunta di rumore gaussiano alle coordinate\n",
    "    x += np.random.normal(0, rumore_std, size=n_punti)\n",
    "    y += np.random.normal(0, rumore_std, size=n_punti)\n",
    "    # Restituisce un array Nx2 con i punti generati\n",
    "    return np.stack([x, y], axis=1)  # shape: (n_punti, 2)\n",
    "\n",
    "def genera_croce(x0, y0, theta, l, n_punti=50, rumore_std = 0.01):\n",
    "    # Primo segmento (angolo theta)\n",
    "    x1 = x0 + l * np.cos(theta)\n",
    "    y1 = y0 + l * np.sin(theta)\n",
    "    x2 = x0 - l * np.cos(theta)\n",
    "    y2 = y0 - l * np.sin(theta)\n",
    "    t = np.linspace(0, 1, n_punti//2)\n",
    "    x = x1 + t * (x2 - x1)\n",
    "    y = y1 + t * (y2 - y1)\n",
    "    x += np.random.normal(0, rumore_std, size=n_punti//2)\n",
    "    y += np.random.normal(0, rumore_std, size=n_punti//2)\n",
    "\n",
    "    # Secondo segmento (angolo theta + 90°)\n",
    "    x1 = x0 - l * np.sin(theta)\n",
    "    y1 = y0 + l * np.cos(theta)\n",
    "    x2 = x0 + l * np.sin(theta)\n",
    "    y2 = y0 - l * np.cos(theta)\n",
    "    t = np.linspace(0, 1, n_punti//2)\n",
    "    xx = x1 + t * (x2 - x1)\n",
    "    yy = y1 + t * (y2 - y1)\n",
    "    xx += np.random.normal(0, rumore_std, size=n_punti//2)\n",
    "    yy += np.random.normal(0, rumore_std, size=n_punti//2)\n",
    "\n",
    "    # Unisce i punti dei due segmenti\n",
    "    x = np.concatenate([x, xx])\n",
    "    y = np.concatenate([y, yy])\n",
    "\n",
    "    return np.stack([x, y], axis=1)  # shape: (n_punti, 2)\n",
    "\n",
    "\n",
    "\n",
    "def genera_ellisse(a=1.0, b=0.5, centro=(0, 0), angolo=0.0, n_punti=100, rumore_std=0.0):\n",
    "    t = np.linspace(0, 2 * np.pi, n_punti)\n",
    "    x = a * np.cos(t)\n",
    "    y = b * np.sin(t)\n",
    "\n",
    "    # Rotazione\n",
    "    x_rot = x * np.cos(angolo) - y * np.sin(angolo)\n",
    "    y_rot = x * np.sin(angolo) + y * np.cos(angolo)\n",
    "\n",
    "    # Traslazione\n",
    "    x_finale = x_rot + centro[0]\n",
    "    y_finale = y_rot + centro[1]\n",
    "\n",
    "    # Rumore\n",
    "    x_finale += np.random.normal(0, rumore_std, size=n_punti)\n",
    "    y_finale += np.random.normal(0, rumore_std, size=n_punti)\n",
    "\n",
    "    return np.stack([x_finale, y_finale], axis=1)\n",
    "\n",
    "\n",
    "def genera_rettangolo(larghezza=1.0, altezza=0.5, centro=(0, 0), angolo=0.0,\n",
    "            rumore_std=0.0, n_punti=100):\n",
    "    if n_punti < 4:\n",
    "        raise ValueError(\"n_punti deve essere almeno 4\")\n",
    "\n",
    "    # Vertici base\n",
    "    w, h = larghezza / 2, altezza / 2\n",
    "    vertici = np.array([\n",
    "        [-w, -h],\n",
    "        [ w, -h],\n",
    "        [ w,  h],\n",
    "        [-w,  h]\n",
    "    ])\n",
    "\n",
    "    # Lati e lunghezze\n",
    "    lati = [(vertici[(i+1) % 4] - vertici[i]) for i in range(4)]\n",
    "    lunghezze = np.array([np.linalg.norm(l) for l in lati])\n",
    "    proporzioni = lunghezze / lunghezze.sum()\n",
    "\n",
    "    # Distribuzione dei punti\n",
    "    n_per_lato = np.floor(proporzioni * n_punti).astype(int)\n",
    "    restante = n_punti - n_per_lato.sum()\n",
    "    for i in range(restante):\n",
    "        n_per_lato[i % 4] += 1\n",
    "\n",
    "    # Generazione dei punti\n",
    "    punti = []\n",
    "    for i, n in enumerate(n_per_lato):\n",
    "        start = vertici[i]\n",
    "        end = vertici[(i + 1) % 4]\n",
    "        t_values = np.linspace(0, 1, n, endpoint=False)\n",
    "        lato = np.outer(1 - t_values, start) + np.outer(t_values, end)\n",
    "        punti.append(lato)\n",
    "    punti = np.vstack(punti)\n",
    "\n",
    "    # Rotazione, traslazione e rumore\n",
    "    R = np.array([\n",
    "        [np.cos(angolo), -np.sin(angolo)],\n",
    "        [np.sin(angolo),  np.cos(angolo)]\n",
    "    ])\n",
    "    punti = punti @ R.T\n",
    "    punti += np.array(centro)\n",
    "    punti += np.random.normal(0, rumore_std, punti.shape)\n",
    "\n",
    "    return punti"
   ]
  },
  {
   "cell_type": "markdown",
   "id": "993dea7b",
   "metadata": {},
   "source": [
    "__**Generazione intero dataset**__"
   ]
  },
  {
   "cell_type": "code",
   "execution_count": 74,
   "id": "4a336034",
   "metadata": {},
   "outputs": [],
   "source": [
    "def genera_campioni(n_shapes = 100, n_punti = 50, rumore_std_bound=0):\n",
    "\n",
    "    X, y = [], []  # Liste per memorizzare i campioni e le etichette\n",
    "\n",
    "    # Genera ellissi\n",
    "    for _ in range(n_shapes):\n",
    "        a = np.random.uniform(0.5, 3.0)                  # semiasse maggiore\n",
    "        b = np.random.uniform(0.3, a)                    # semiasse minore\n",
    "        centro = (np.random.uniform(-5, 5), np.random.uniform(-5, 5))  # centro casuale\n",
    "        angolo = np.random.uniform(0, 2 * np.pi)         # rotazione casuale\n",
    "        rumore = np.random.uniform(0.0, rumore_std_bound)  # rumore casuale\n",
    "        punti = genera_ellisse(a, b, centro, angolo, n_punti=n_punti, rumore_std=rumore)  # genera punti\n",
    "        X.append(punti)\n",
    "        y.append(0)  # 0 = ellisse\n",
    "\n",
    "    # Genera rettangoli\n",
    "    for _ in range(n_shapes):\n",
    "        punti = genera_rettangolo(\n",
    "            larghezza=np.random.uniform(0.5, 3.0),       # larghezza casuale\n",
    "            altezza=np.random.uniform(0.5, 2.0),         # altezza casuale\n",
    "            centro=(np.random.uniform(-5, 5), np.random.uniform(-5, 5)),  # centro casuale\n",
    "            angolo=np.random.uniform(0, 2*np.pi),        # rotazione casuale\n",
    "            rumore_std = np.random.uniform(0.0, rumore_std_bound),        # rumore casuale\n",
    "            n_punti = n_punti\n",
    "        )\n",
    "        X.append(punti)\n",
    "        y.append(1) # 1 = rettangolo\n",
    "\n",
    "    # Genera segmenti\n",
    "    for _ in range(n_shapes):\n",
    "        x0, y0 = np.random.uniform(-5, 5 ), np.random.uniform(-5, 5 )  # centro casuale\n",
    "        l, theta = np.random.uniform(0, 10 ), np.random.uniform(0, np.pi )  # lunghezza e angolo casuali\n",
    "        punti = genera_segmento(x0, y0, l, theta, n_punti=n_punti,\n",
    "                                rumore_std = np.random.uniform(0.0, rumore_std_bound))  # genera punti\n",
    "        X.append(punti)\n",
    "        y.append(2)\n",
    "        \n",
    "    # Genera croci (due segmenti ortogonali)\n",
    "    for _ in range(n_shapes):\n",
    "        x0, y0 = np.random.uniform(-5, 5 ), np.random.uniform(-5, 5 )  # centro casuale\n",
    "        l, theta = np.random.uniform(0, 10 ), np.random.uniform(0, np.pi )  # lunghezza e angolo casuali\n",
    "        punti = genera_croce(x0, y0, l, theta, n_punti=n_punti,\n",
    "                                rumore_std = np.random.uniform(0.0, rumore_std_bound))  # genera punti\n",
    "        X.append(punti)\n",
    "        y.append(3)  # 3 = croce\n",
    "        \n",
    "    return np.array(X), np.array(y)  # restituisce array di campioni e etichette"
   ]
  },
  {
   "cell_type": "code",
   "execution_count": 75,
   "id": "3c7065b5",
   "metadata": {},
   "outputs": [],
   "source": [
    "labels = ['ellisse', 'rettangolo', 'segmento', 'croce']"
   ]
  },
  {
   "cell_type": "markdown",
   "id": "e84659ab",
   "metadata": {},
   "source": [
    "*______________________________________________________________________________________________________________________________________________________*"
   ]
  },
  {
   "cell_type": "markdown",
   "id": "99cb9efe",
   "metadata": {},
   "source": [
    "**Generazione e splitting Dataset**"
   ]
  },
  {
   "cell_type": "code",
   "execution_count": 76,
   "id": "1a98cb9f",
   "metadata": {},
   "outputs": [],
   "source": [
    "X, y = genera_campioni(n_shapes=1000, n_punti=100, rumore_std_bound=0.1)"
   ]
  },
  {
   "cell_type": "code",
   "execution_count": 77,
   "id": "87688d19",
   "metadata": {},
   "outputs": [],
   "source": [
    "X_f = np.array([shape.flatten() for shape in X])"
   ]
  },
  {
   "cell_type": "code",
   "execution_count": 78,
   "id": "d7db1e69",
   "metadata": {},
   "outputs": [],
   "source": [
    "X_train, X_test, y_train, y_test = train_test_split(\n",
    "    X_f, y, test_size=0.2, random_state=42, stratify=y\n",
    ")"
   ]
  },
  {
   "cell_type": "markdown",
   "id": "8e77cc6f",
   "metadata": {},
   "source": [
    "**Standardizzazione**"
   ]
  },
  {
   "cell_type": "code",
   "execution_count": 79,
   "id": "1002469a",
   "metadata": {},
   "outputs": [],
   "source": [
    "scaler = StandardScaler().fit(X_train)\n",
    "X_train_std = scaler.transform(X_train)\n",
    "X_test_std  = scaler.transform(X_test)"
   ]
  },
  {
   "cell_type": "markdown",
   "id": "4d4303f4",
   "metadata": {},
   "source": [
    "**USO DI PANDAS PER ESPORTAZIONE CSV**"
   ]
  },
  {
   "cell_type": "markdown",
   "id": "09c8c7cd",
   "metadata": {},
   "source": [
    "* Struttura tabellare: ogni colonna è chiaramente un campo (x0, y0, x1, y1, …, label).\n"
   ]
  },
  {
   "cell_type": "markdown",
   "id": "3d7a9740",
   "metadata": {},
   "source": [
    "* Pandas: ti permette di fare subito operazioni su DataFrame, visualizzare, filtrare, raggruppare, etc.\n"
   ]
  },
  {
   "cell_type": "code",
   "execution_count": 80,
   "id": "a76ad2ef",
   "metadata": {},
   "outputs": [],
   "source": [
    "\n",
    "def esporta_dataset_train(filename, X_train_std, y_train, label_names=None):\n",
    "    # appiattisci\n",
    "    X_flat = [x.flatten() for x in X_train_std]\n",
    "    # genera colonne x0,y0,x1,y1,...\n",
    "    cols = []\n",
    "    for i in range(len(X_flat[0])//2):\n",
    "        cols += [f'x{i}', f'y{i}']\n",
    "    # costruisci DataFrame\n",
    "    df = pd.DataFrame(X_flat, columns=cols)\n",
    "    # aggiungi label, numerica o testuale\n",
    "    if label_names is not None:\n",
    "        df['label'] = [label_names[int(lbl)] for lbl in y_train]\n",
    "    else:\n",
    "        df['label'] = y_train\n",
    "    # esporta\n",
    "    df.to_csv(filename, index=False)\n",
    "    \n",
    "def esporta_dataset_test(filename, X_test_std, y_test, label_names=None):\n",
    "    # appiattisci\n",
    "    X_flat = [x.flatten() for x in X_test_std]\n",
    "    # genera colonne x0,y0,x1,y1,...\n",
    "    cols = []\n",
    "    for i in range(len(X_flat[0])//2):\n",
    "        cols += [f'x{i}', f'y{i}']\n",
    "    # costruisci DataFrame\n",
    "    df = pd.DataFrame(X_flat, columns=cols)\n",
    "    # aggiungi label, numerica o testuale\n",
    "    if label_names is not None:\n",
    "        df['label'] = [label_names[int(lbl)] for lbl in y_test]\n",
    "    else:\n",
    "        df['label'] = y_test\n",
    "    # esporta\n",
    "    df.to_csv(filename, index=False)"
   ]
  },
  {
   "cell_type": "code",
   "execution_count": 81,
   "id": "dc48ee83",
   "metadata": {},
   "outputs": [],
   "source": [
    "\n",
    "esporta_dataset_train('dataset_train.csv', X_train_std, y_train, label_names=labels)\n",
    "esporta_dataset_test('dataset_test.csv', X_test_std, y_test, label_names=labels)"
   ]
  },
  {
   "cell_type": "code",
   "execution_count": 82,
   "id": "717f507c",
   "metadata": {},
   "outputs": [
    {
     "name": "stdout",
     "output_type": "stream",
     "text": [
      "Shape di X: (3200, 200)\n",
      "Shape di y: (4000,)\n"
     ]
    }
   ],
   "source": [
    "print(\"Shape di X:\", X_train_std.shape)\n",
    "print(\"Shape di y:\", y.shape)"
   ]
  },
  {
   "cell_type": "markdown",
   "id": "4eb1179a",
   "metadata": {},
   "source": [
    "*______________________________________________________________________________________________________________________________________________________*"
   ]
  },
  {
   "cell_type": "code",
   "execution_count": 83,
   "id": "836d16b8",
   "metadata": {},
   "outputs": [],
   "source": [
    "def get_eigen(A):\n",
    "    # calcola la media per ogni colonna (feature)\n",
    "    means = np.mean(A, axis=0)\n",
    "    # sottrae la media (lungo le colonne): ogni feature ora ha media zero\n",
    "    M = (A - means)\n",
    "    # calcola la matrice di covarianza delle righe di A\n",
    "    c = np.cov(M, rowvar=0)\n",
    "    # calcola autovalori e autovettori della matrice di covarianza\n",
    "    [evals, evects] = np.linalg.eig(c)\n",
    "    # ottiene gli indici degli autovalori ordinati in modo decrescente\n",
    "    idx = np.argsort(evals)[::-1]\n",
    "    # ordina gli autovettori (colonne di evects) secondo gli autovalori ordinati\n",
    "    evects = evects[:, idx]\n",
    "    # ordina gli autovalori in modo decrescente\n",
    "    evals = evals[idx]\n",
    "    return evals, evects, M"
   ]
  },
  {
   "cell_type": "code",
   "execution_count": 84,
   "id": "3a5bf542",
   "metadata": {},
   "outputs": [],
   "source": [
    "def pca(M, vec, numpc=0):\n",
    "    # Estrae i primi 'numpc' autovettori come base dello spazio ridotto\n",
    "    basis = vec[:, range(numpc)]\n",
    "    # Proietta i dati centrati nello spazio delle componenti principali\n",
    "    projections = np.dot(M, basis)\n",
    "    # Restituisce la base e le proiezioni\n",
    "    return basis, projections"
   ]
  },
  {
   "cell_type": "code",
   "execution_count": 85,
   "id": "faa28b1b",
   "metadata": {},
   "outputs": [],
   "source": [
    "evals, evects, M_train = get_eigen(X_train_std)"
   ]
  },
  {
   "cell_type": "code",
   "execution_count": 90,
   "id": "6d854d6d",
   "metadata": {},
   "outputs": [],
   "source": [
    "numpc = 10         \n",
    "basis, scores_train = pca(M_train, evects, numpc)"
   ]
  },
  {
   "cell_type": "code",
   "execution_count": 91,
   "id": "7781aabc",
   "metadata": {},
   "outputs": [
    {
     "name": "stdout",
     "output_type": "stream",
     "text": [
      "Explained variance ratio per PC: [4.69657534e-01 4.54071936e-01 2.84811968e-02 2.54657943e-02\n",
      " 6.68888184e-03 5.56025174e-03 4.95747078e-03 4.35920821e-03\n",
      " 1.66042029e-04 1.59449477e-04]\n",
      "Total explained variance (10 PC): 0.9995677653694989\n"
     ]
    }
   ],
   "source": [
    "var_ratio = evals / evals.sum()\n",
    "print(\"Explained variance ratio per PC:\", var_ratio[:numpc])\n",
    "print(\"Total explained variance (%d PC):\" % numpc, var_ratio[:numpc].sum())"
   ]
  },
  {
   "cell_type": "markdown",
   "id": "310b1701",
   "metadata": {},
   "source": [
    "*Tenendo 4 PC, si riduce la dimensionalità da 200 a 4 mantenendo il 97 % dell’informazione (varianza) originale. È un ottimo compromesso tra riduzione di complessità e preservazione dei dati.*"
   ]
  },
  {
   "cell_type": "code",
   "execution_count": 92,
   "id": "e7e7db6a",
   "metadata": {},
   "outputs": [
    {
     "data": {
      "image/png": "[encoded data removed]",
      "text/plain": [
       "<Figure size 1000x500 with 2 Axes>"
      ]
     },
     "metadata": {},
     "output_type": "display_data"
    }
   ],
   "source": [
    "# — Assicuriamoci di avere già:\n",
    "# X_f    = ottieni_features(X)                # vettori raw\n",
    "# scaler = StandardScaler().fit(X_f)\n",
    "# X_std  = scaler.transform(X_f)              # shape (n_samples, n_features)\n",
    "# evals, evects, M = get_eigen(X_std)         # PCA manuale\n",
    "# basis, scores   = pca(M, evects, numpc=4)   # basis (n_features×4), scores (n_samples×4)\n",
    "\n",
    "# Scegli l’indice da mostrare\n",
    "i = 5\n",
    "\n",
    "# Forma originalizzata nella scala standardizzata\n",
    "orig_std = X_train_std[i]              # vettore di lunghezza n_features\n",
    "orig_pts  = orig_std.reshape(-1, 2)\n",
    "\n",
    "# Ricostruzione PCA nella scala standardizzata\n",
    "recon_std = scores_train[i].dot(basis.T)  # shape (n_features,)\n",
    "recon_pts  = recon_std.reshape(-1, 2)\n",
    "\n",
    "# Plot side-by-side\n",
    "fig, (ax1, ax2) = plt.subplots(1, 2, figsize=(10,5))\n",
    "\n",
    "ax1.plot(orig_pts[:,0], orig_pts[:,1], '-o', markersize=3)\n",
    "ax1.set_title(\"Originale standardizzata\")\n",
    "ax1.axis('equal')\n",
    "\n",
    "ax2.plot(recon_pts[:,0], recon_pts[:,1], '-o', markersize=3, color='orange')\n",
    "ax2.set_title(f\"Ricostruzione PCA (4 PC)\\nstandardizzata\")\n",
    "ax2.axis('equal')\n",
    "\n",
    "plt.suptitle(f\"Confronto forma #{i} in scala standardizzata\")\n",
    "plt.tight_layout()\n",
    "plt.show()\n"
   ]
  },
  {
   "cell_type": "markdown",
   "id": "9a10b6a6",
   "metadata": {},
   "source": [
    "* A destra notiamo la ricostruzione della forma utilizzando solo 4 componenti, cioè un vettore di 200 coordinate ottenuto dalla somma pesata di 4 basi"
   ]
  }
 ],
 "metadata": {
  "kernelspec": {
   "display_name": "Python 3",
   "language": "python",
   "name": "python3"
  },
  "language_info": {
   "codemirror_mode": {
    "name": "ipython",
    "version": 3
   },
   "file_extension": ".py",
   "mimetype": "text/x-python",
   "name": "python",
   "nbconvert_exporter": "python",
   "pygments_lexer": "ipython3",
   "version": "3.10.16"
  }
 },
 "nbformat": 4,
 "nbformat_minor": 5
}
