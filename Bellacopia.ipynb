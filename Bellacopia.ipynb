{
 "cells": [
  {
   "cell_type": "markdown",
   "id": "53a1d96c",
   "metadata": {},
   "source": [
    "# **Classificatore forme**"
   ]
  },
  {
   "cell_type": "markdown",
   "id": "b0db7ca9",
   "metadata": {},
   "source": [
    "---"
   ]
  },
  {
   "cell_type": "markdown",
   "id": "5872accf",
   "metadata": {},
   "source": [
    "## Importazione librerie necessarie"
   ]
  },
  {
   "cell_type": "code",
   "execution_count": 5,
   "id": "35d335ad",
   "metadata": {},
   "outputs": [],
   "source": [
    "import matplotlib.pyplot as plt\n",
    "import numpy as np\n",
    "import csv\n",
    "from sklearn.preprocessing import StandardScaler\n",
    "from sklearn.model_selection import train_test_split\n",
    "from sklearn.ensemble import RandomForestClassifier\n",
    "from sklearn.feature_selection import SelectFromModel\n",
    "from scipy.spatial import ConvexHull\n",
    "from itertools import combinations\n",
    "import pandas as pd"
   ]
  },
  {
   "cell_type": "markdown",
   "id": "5730a352",
   "metadata": {},
   "source": [
    "## Generazione singola forma"
   ]
  },
  {
   "cell_type": "code",
   "execution_count": 6,
   "id": "ff50fd5c",
   "metadata": {},
   "outputs": [],
   "source": [
    "def to_stringa(punti, forma):\n",
    "    return \";\".join(f\"{x:.3f}:{y:.3f}\" for x, y in punti)+','+forma\n",
    "\n",
    "def genera_segmento(x0, y0, theta, l, n_punti=50, rumore_std = 0.01):\n",
    "    # Calcola le coordinate dei due estremi del segmento\n",
    "    x1 = x0 + l * np.cos(theta)\n",
    "    y1 = y0 + l * np.sin(theta)\n",
    "    x2 = x0 - l * np.cos(theta)\n",
    "    y2 = y0 - l * np.sin(theta)\n",
    "    # Interpolazione lineare tra i due estremi per ottenere i punti\n",
    "    t = np.linspace(0, 1, n_punti)\n",
    "    x = x1 + t * (x2 - x1)\n",
    "    y = y1 + t * (y2 - y1)\n",
    "    # Aggiunta di rumore gaussiano alle coordinate\n",
    "    x += np.random.normal(0, rumore_std, size=n_punti)\n",
    "    y += np.random.normal(0, rumore_std, size=n_punti)\n",
    "    # Restituisce un array Nx2 con i punti generati\n",
    "    return np.stack([x, y], axis=1)  # shape: (n_punti, 2)\n",
    "\n",
    "def genera_croce(x0, y0, theta, l, n_punti=50, rumore_std = 0.01):\n",
    "    # Primo segmento (angolo theta)\n",
    "    x1 = x0 + l * np.cos(theta)\n",
    "    y1 = y0 + l * np.sin(theta)\n",
    "    x2 = x0 - l * np.cos(theta)\n",
    "    y2 = y0 - l * np.sin(theta)\n",
    "    t = np.linspace(0, 1, n_punti//2)\n",
    "    x = x1 + t * (x2 - x1)\n",
    "    y = y1 + t * (y2 - y1)\n",
    "    x += np.random.normal(0, rumore_std, size=n_punti//2)\n",
    "    y += np.random.normal(0, rumore_std, size=n_punti//2)\n",
    "\n",
    "    # Secondo segmento (angolo theta + 90°)\n",
    "    x1 = x0 - l * np.sin(theta)\n",
    "    y1 = y0 + l * np.cos(theta)\n",
    "    x2 = x0 + l * np.sin(theta)\n",
    "    y2 = y0 - l * np.cos(theta)\n",
    "    t = np.linspace(0, 1, n_punti//2)\n",
    "    xx = x1 + t * (x2 - x1)\n",
    "    yy = y1 + t * (y2 - y1)\n",
    "    xx += np.random.normal(0, rumore_std, size=n_punti//2)\n",
    "    yy += np.random.normal(0, rumore_std, size=n_punti//2)\n",
    "\n",
    "    # Unisce i punti dei due segmenti\n",
    "    x = np.concatenate([x, xx])\n",
    "    y = np.concatenate([y, yy])\n",
    "\n",
    "    return np.stack([x, y], axis=1)  # shape: (n_punti, 2)\n",
    "\n",
    "\n",
    "\n",
    "def genera_ellisse(a=1.0, b=0.5, centro=(0, 0), angolo=0.0, n_punti=100, rumore_std=0.0):\n",
    "    t = np.linspace(0, 2 * np.pi, n_punti)\n",
    "    x = a * np.cos(t)\n",
    "    y = b * np.sin(t)\n",
    "\n",
    "    # Rotazione\n",
    "    x_rot = x * np.cos(angolo) - y * np.sin(angolo)\n",
    "    y_rot = x * np.sin(angolo) + y * np.cos(angolo)\n",
    "\n",
    "    # Traslazione\n",
    "    x_finale = x_rot + centro[0]\n",
    "    y_finale = y_rot + centro[1]\n",
    "\n",
    "    # Rumore\n",
    "    x_finale += np.random.normal(0, rumore_std, size=n_punti)\n",
    "    y_finale += np.random.normal(0, rumore_std, size=n_punti)\n",
    "\n",
    "    return np.stack([x_finale, y_finale], axis=1)\n",
    "\n",
    "\n",
    "def genera_rettangolo(larghezza=1.0, altezza=0.5, centro=(0, 0), angolo=0.0,\n",
    "            rumore_std=0.0, n_punti=100):\n",
    "    if n_punti < 4:\n",
    "        raise ValueError(\"n_punti deve essere almeno 4\")\n",
    "\n",
    "    # Vertici base\n",
    "    w, h = larghezza / 2, altezza / 2\n",
    "    vertici = np.array([\n",
    "        [-w, -h],\n",
    "        [ w, -h],\n",
    "        [ w,  h],\n",
    "        [-w,  h]\n",
    "    ])\n",
    "\n",
    "    # Lati e lunghezze\n",
    "    lati = [(vertici[(i+1) % 4] - vertici[i]) for i in range(4)]\n",
    "    lunghezze = np.array([np.linalg.norm(l) for l in lati])\n",
    "    proporzioni = lunghezze / lunghezze.sum()\n",
    "\n",
    "    # Distribuzione dei punti\n",
    "    n_per_lato = np.floor(proporzioni * n_punti).astype(int)\n",
    "    restante = n_punti - n_per_lato.sum()\n",
    "    for i in range(restante):\n",
    "        n_per_lato[i % 4] += 1\n",
    "\n",
    "    # Generazione dei punti\n",
    "    punti = []\n",
    "    for i, n in enumerate(n_per_lato):\n",
    "        start = vertici[i]\n",
    "        end = vertici[(i + 1) % 4]\n",
    "        t_values = np.linspace(0, 1, n, endpoint=False)\n",
    "        lato = np.outer(1 - t_values, start) + np.outer(t_values, end)\n",
    "        punti.append(lato)\n",
    "    punti = np.vstack(punti)\n",
    "\n",
    "    # Rotazione, traslazione e rumore\n",
    "    R = np.array([\n",
    "        [np.cos(angolo), -np.sin(angolo)],\n",
    "        [np.sin(angolo),  np.cos(angolo)]\n",
    "    ])\n",
    "    punti = punti @ R.T\n",
    "    punti += np.array(centro)\n",
    "    punti += np.random.normal(0, rumore_std, punti.shape)\n",
    "\n",
    "    return punti"
   ]
  },
  {
   "cell_type": "markdown",
   "id": "4acde6ed",
   "metadata": {},
   "source": [
    "### Generazione Dataset\n"
   ]
  },
  {
   "cell_type": "code",
   "execution_count": 7,
   "id": "0b847a0d",
   "metadata": {},
   "outputs": [],
   "source": [
    "def genera_campioni(n_shapes = 100, n_punti = 50, rumore_std_bound=0):\n",
    "\n",
    "    X, y = [], []  # Liste per memorizzare i campioni e le etichette\n",
    "\n",
    "    # Genera ellissi\n",
    "    for _ in range(n_shapes):\n",
    "        a = np.random.uniform(0.5, 3.0)                  # semiasse maggiore\n",
    "        b = np.random.uniform(0.3, a)                    # semiasse minore\n",
    "        centro = (np.random.uniform(-5, 5), np.random.uniform(-5, 5))  # centro casuale\n",
    "        angolo = np.random.uniform(0, 2 * np.pi)         # rotazione casuale\n",
    "        rumore = np.random.uniform(0.0, rumore_std_bound)  # rumore casuale\n",
    "        punti = genera_ellisse(a, b, centro, angolo, n_punti=n_punti, rumore_std=rumore)  # genera punti\n",
    "        X.append(punti)\n",
    "        y.append(0)  # 0 = ellisse\n",
    "\n",
    "    # Genera rettangoli\n",
    "    for _ in range(n_shapes):\n",
    "        punti = genera_rettangolo(\n",
    "            larghezza=np.random.uniform(0.5, 3.0),       # larghezza casuale\n",
    "            altezza=np.random.uniform(0.5, 2.0),         # altezza casuale\n",
    "            centro=(np.random.uniform(-5, 5), np.random.uniform(-5, 5)),  # centro casuale\n",
    "            angolo=np.random.uniform(0, 2*np.pi),        # rotazione casuale\n",
    "            rumore_std = np.random.uniform(0.0, rumore_std_bound),        # rumore casuale\n",
    "            n_punti = n_punti\n",
    "        )\n",
    "        X.append(punti)\n",
    "        y.append(1) # 1 = rettangolo\n",
    "\n",
    "    # Genera segmenti\n",
    "    for _ in range(n_shapes):\n",
    "        x0, y0 = np.random.uniform(-5, 5 ), np.random.uniform(-5, 5 )  # centro casuale\n",
    "        l, theta = np.random.uniform(0, 10 ), np.random.uniform(0, np.pi )  # lunghezza e angolo casuali\n",
    "        punti = genera_segmento(x0, y0, l, theta, n_punti=n_punti,\n",
    "                                rumore_std = np.random.uniform(0.0, rumore_std_bound))  # genera punti\n",
    "        X.append(punti)\n",
    "        y.append(2)\n",
    "        \n",
    "    # Genera croci (due segmenti ortogonali)\n",
    "    for _ in range(n_shapes):\n",
    "        x0, y0 = np.random.uniform(-5, 5 ), np.random.uniform(-5, 5 )  # centro casuale\n",
    "        l, theta = np.random.uniform(0, 10 ), np.random.uniform(0, np.pi )  # lunghezza e angolo casuali\n",
    "        punti = genera_croce(x0, y0, l, theta, n_punti=n_punti,\n",
    "                                rumore_std = np.random.uniform(0.0, rumore_std_bound))  # genera punti\n",
    "        X.append(punti)\n",
    "        y.append(3)  # 3 = croce\n",
    "        \n",
    "\n",
    "    return np.array(X), np.array(y)  # restituisce array di campioni e etichette\n"
   ]
  },
  {
   "cell_type": "markdown",
   "id": "d5f963ae",
   "metadata": {},
   "source": [
    "* Otteniamo le features appiattite"
   ]
  },
  {
   "cell_type": "code",
   "execution_count": 8,
   "id": "5c201f4f",
   "metadata": {},
   "outputs": [],
   "source": [
    "def ottieni_features(X):\n",
    "    return np.array([list(x.flatten()) for x in X])"
   ]
  },
  {
   "cell_type": "code",
   "execution_count": 9,
   "id": "21ce1acf",
   "metadata": {},
   "outputs": [],
   "source": [
    "labels = ['ellisse', 'rettangolo', 'segmento', 'croce']"
   ]
  },
  {
   "cell_type": "code",
   "execution_count": 10,
   "id": "eba6fb02",
   "metadata": {},
   "outputs": [],
   "source": [
    "X, y = genera_campioni(n_shapes=4000, n_punti=100, rumore_std_bound=0.00001)\n",
    "X_flat = ottieni_features(X)"
   ]
  },
  {
   "cell_type": "markdown",
   "id": "73eb15cd",
   "metadata": {},
   "source": [
    "---"
   ]
  },
  {
   "cell_type": "markdown",
   "id": "694730e6",
   "metadata": {},
   "source": [
    "## Estrazione e valutazione di nuove features"
   ]
  },
  {
   "cell_type": "code",
   "execution_count": null,
   "id": "35dbd98a",
   "metadata": {},
   "outputs": [],
   "source": [
    "def extract_geometric_features(pts):\n",
    "    \"\"\"\n",
    "    pts: array (n_punti, 2)\n",
    "    Restituisce un dict con le feature geometriche.\n",
    "    \"\"\"\n",
    "    # 1. Centroid\n",
    "    cx, cy = pts.mean(axis=0)\n",
    "    # distanze dal centroide\n",
    "    dists = np.linalg.norm(pts - (cx, cy), axis=1)\n",
    "    dist_mean = dists.mean()\n",
    "    dist_std  = dists.std()\n",
    "\n",
    "    # 2. Perimetro\n",
    "    diffs = np.diff(pts, axis=0, append=pts[:1])\n",
    "    perimeter = np.linalg.norm(diffs, axis=1).sum()\n",
    "\n",
    "    # 3. Area (shoelace)\n",
    "    x, y = pts[:,0], pts[:,1]\n",
    "    area = 0.5 * np.abs(np.dot(x, np.roll(y, -1)) - np.dot(y, np.roll(x, -1)))\n",
    "\n",
    "    # 4. Bounding-box aspect ratio\n",
    "    minx, maxx = x.min(), x.max()\n",
    "    miny, maxy = y.min(), y.max()\n",
    "    width, height = maxx - minx, maxy - miny\n",
    "    aspect_ratio = width / height if height>0 else 0\n",
    "\n",
    "    # 5. Extreme distances\n",
    "    # (costo O(n^2), per n~100 va bene)\n",
    "    dists_all = [np.linalg.norm(p-q) for p, q in combinations(pts, 2)]\n",
    "    d_max = max(dists_all)\n",
    "    d_min = min(dists_all)\n",
    "\n",
    "    # 6. Convex hull\n",
    "    hull = ConvexHull(pts)\n",
    "    hull_area = hull.volume    # in 2D volume è l’area\n",
    "    hull_perim = hull.area     # in 2D area è il perimetro dell’inviluppo\n",
    "    hull_ratio = area / hull_area if hull_area>0 else 0\n",
    "\n",
    "    # 7. Compactness\n",
    "    compactness = 4*np.pi*area/(perimeter**2) if perimeter>0 else 0\n",
    "\n",
    "    # 8. Eccentricity (PCA sui punti)\n",
    "    # calcolo cov e autovalori\n",
    "    cov = np.cov(pts.T)\n",
    "    evals, _ = np.linalg.eig(cov)\n",
    "    # rapport tra max e min asse\n",
    "    ecc = np.sqrt(evals.max()/evals.min()) if evals.min()>0 else 0\n",
    "    "
   ]
  },
  {
   "cell_type": "code",
   "execution_count": 11,
   "id": "b9ca8fcd",
   "metadata": {},
   "outputs": [
    {
     "name": "stdout",
     "output_type": "stream",
     "text": [
      "(16000, 200)\n",
      "         x0        y0        x1        y1        x2        y2        x3  \\\n",
      "0  0.328890 -3.261693  0.286912 -3.270564  0.245711 -3.283209  0.205484   \n",
      "1 -3.218561 -0.555717 -3.095255 -0.551595 -2.972428 -0.538713 -2.850574   \n",
      "2 -1.191652  5.522692 -1.353917  5.483894 -1.513317  5.434381 -1.669200   \n",
      "3 -2.585368 -4.201506 -2.565535 -4.119648 -2.554694 -4.035427 -2.552890   \n",
      "4 -0.826236 -2.119932 -0.883051 -2.104250 -0.940973 -2.092850 -0.999770   \n",
      "\n",
      "         y3        x4        y4  ...       x95       y95       x96       y96  \\\n",
      "0 -3.299549  0.166367 -3.319550  ...  0.501402 -3.264314  0.457949 -3.257911   \n",
      "1 -0.517131 -2.730182 -0.486928  ... -3.706640 -0.484831 -3.586380 -0.515552   \n",
      "2  5.374345 -1.820938  5.304026  ... -0.527017  5.568157 -0.694174  5.573379   \n",
      "3 -3.949164 -2.560095 -3.861253  ... -2.752284 -4.499084 -2.697705 -4.429791   \n",
      "4 -2.085776 -1.059204 -2.083058  ... -0.614543 -2.223953 -0.664698 -2.191946   \n",
      "\n",
      "        x97       y97       x98       y98       x99       y99  \n",
      "0  0.414574 -3.255344  0.371507 -3.256621  0.328891 -3.261689  \n",
      "1 -3.464615 -0.537659 -3.341846 -0.551066 -3.218558 -0.555717  \n",
      "2 -0.861118  5.567513 -1.027169  5.550602 -1.191655  5.522691  \n",
      "3 -2.651590 -4.356907 -2.614091 -4.280714 -2.585364 -4.201526  \n",
      "4 -0.716839 -2.163868 -0.770758 -2.139831 -0.826236 -2.119932  \n",
      "\n",
      "[5 rows x 200 columns]\n"
     ]
    }
   ],
   "source": [
    "X_flat = np.array([shape.flatten() for shape in X])\n",
    "\n",
    "# 2) Genera i nomi delle colonne: x0,y0,x1,y1,…,x{n_punti-1},y{n_punti-1}\n",
    "n_punti = X.shape[1]\n",
    "cols_xy = []\n",
    "for i in range(n_punti):\n",
    "    cols_xy += [f'x{i}', f'y{i}']\n",
    "\n",
    "# 3) Costruisci df_flat e assegna la label\n",
    "df_flat = pd.DataFrame(X_flat, columns=cols_xy)  \n",
    "\n",
    "# Controlla\n",
    "print(df_flat.shape)   # (n_shapes, 200+1)\n",
    "print(df_flat.head())"
   ]
  },
  {
   "cell_type": "code",
   "execution_count": 71,
   "id": "81b69603",
   "metadata": {},
   "outputs": [],
   "source": [
    "features_list = []\n",
    "for shape in X:\n",
    "    feats = extract_geometric_features(shape)  # dict delle nuove feature\n",
    "    features_list.append(feats)"
   ]
  },
  {
   "cell_type": "code",
   "execution_count": 12,
   "id": "fe16e14e",
   "metadata": {},
   "outputs": [
    {
     "ename": "NameError",
     "evalue": "name 'features_list' is not defined",
     "output_type": "error",
     "traceback": [
      "\u001b[31m---------------------------------------------------------------------------\u001b[39m",
      "\u001b[31mNameError\u001b[39m                                 Traceback (most recent call last)",
      "\u001b[36mCell\u001b[39m\u001b[36m \u001b[39m\u001b[32mIn[12]\u001b[39m\u001b[32m, line 1\u001b[39m\n\u001b[32m----> \u001b[39m\u001b[32m1\u001b[39m df_geo = pd.DataFrame(\u001b[43mfeatures_list\u001b[49m)\n\u001b[32m      2\u001b[39m df_geo[\u001b[33m'\u001b[39m\u001b[33mlabel\u001b[39m\u001b[33m'\u001b[39m] = y \n",
      "\u001b[31mNameError\u001b[39m: name 'features_list' is not defined"
     ]
    }
   ],
   "source": [
    "df_geo = pd.DataFrame(features_list)\n",
    "df_geo['label'] = y "
   ]
  },
  {
   "cell_type": "code",
   "execution_count": 73,
   "id": "6bcd07ed",
   "metadata": {},
   "outputs": [
    {
     "name": "stdout",
     "output_type": "stream",
     "text": [
      "(16000, 213)\n"
     ]
    }
   ],
   "source": [
    "df_all = pd.concat([df_flat, df_geo], axis=1)\n",
    "print(df_all.shape)"
   ]
  },
  {
   "cell_type": "code",
   "execution_count": 74,
   "id": "853fa991",
   "metadata": {},
   "outputs": [],
   "source": [
    "df_all.to_csv('dataset_geometric_features.csv', index=False)"
   ]
  },
  {
   "cell_type": "markdown",
   "id": "cffeec19",
   "metadata": {},
   "source": [
    "---"
   ]
  },
  {
   "cell_type": "markdown",
   "id": "d8dcdd55",
   "metadata": {},
   "source": [
    "## Splitting del dataset"
   ]
  },
  {
   "cell_type": "markdown",
   "id": "791f5760",
   "metadata": {},
   "source": [
    "Creiamo un set per: \n",
    "* `train`\n",
    "* `validation`\n",
    "* `test`\n"
   ]
  },
  {
   "cell_type": "code",
   "execution_count": 15,
   "id": "5472cd8e",
   "metadata": {},
   "outputs": [],
   "source": [
    "# 1) Split iniziale: train+val vs test (80/20)\n",
    "X_temp, X_test, y_temp, y_test = train_test_split(\n",
    "    X_flat, y, test_size=0.2, random_state=42, stratify=y\n",
    ")\n",
    "\n",
    "# 2) Split secondario: train vs validation (da quel 80% rimasto, 80% train e 20% validation → 64% train, 16% val)\n",
    "X_train, X_val, y_train, y_val = train_test_split(\n",
    "    X_temp, y_temp, test_size=0.2, random_state=42, stratify=y_temp\n",
    ")\n"
   ]
  },
  {
   "cell_type": "markdown",
   "id": "ad33ce94",
   "metadata": {},
   "source": [
    "**Ognuno con le rispettive percentuali più opportune**"
   ]
  },
  {
   "cell_type": "code",
   "execution_count": 16,
   "id": "a1fe88e6",
   "metadata": {},
   "outputs": [
    {
     "name": "stdout",
     "output_type": "stream",
     "text": [
      "Shape di X: (10240, 200)\n",
      "Shape di y: (16000,)\n"
     ]
    }
   ],
   "source": [
    "print(\"Shape di X:\", X_train.shape)\n",
    "print(\"Shape di y:\", y.shape)"
   ]
  },
  {
   "cell_type": "markdown",
   "id": "aa4d65b5",
   "metadata": {},
   "source": [
    "---"
   ]
  },
  {
   "cell_type": "markdown",
   "id": "addc345d",
   "metadata": {},
   "source": [
    "## Metodo PCA e valutazione"
   ]
  },
  {
   "cell_type": "markdown",
   "id": "3d22ac76",
   "metadata": {},
   "source": [
    "* Prepariamo le funzioni che servono all'applicazione della PCA"
   ]
  },
  {
   "cell_type": "code",
   "execution_count": 17,
   "id": "39466cc5",
   "metadata": {},
   "outputs": [],
   "source": [
    "def get_eigen(A):\n",
    "    # calcola la media per ogni colonna (feature)\n",
    "    means = np.mean(A, axis=0)\n",
    "    # sottrae la media (lungo le colonne): ogni feature ora ha media zero\n",
    "    M = (A - means)\n",
    "    # calcola la matrice di covarianza delle righe di A\n",
    "    c = np.cov(M, rowvar=0)\n",
    "    # calcola autovalori e autovettori della matrice di covarianza\n",
    "    [evals, evects] = np.linalg.eig(c)\n",
    "    # ottiene gli indici degli autovalori ordinati in modo decrescente\n",
    "    idx = np.argsort(evals)[::-1]\n",
    "    # ordina gli autovettori (colonne di evects) secondo gli autovalori ordinati\n",
    "    evects = evects[:, idx]\n",
    "    # ordina gli autovalori in modo decrescente\n",
    "    evals = evals[idx]\n",
    "    return evals, evects, M\n",
    "\n",
    "def pca(M, vec, numpc=0):\n",
    "    # Estrae i primi 'numpc' autovettori come base dello spazio ridotto\n",
    "    basis = vec[:, range(numpc)]\n",
    "    # Proietta i dati centrati nello spazio delle componenti principali\n",
    "    projections = np.dot(M, basis)\n",
    "    # Restituisce la base e le proiezioni\n",
    "    return basis, projections"
   ]
  },
  {
   "cell_type": "markdown",
   "id": "07218ec7",
   "metadata": {},
   "source": [
    "* Applichiamo la PCA a tutti i dataset splittati con un numero di componenti = 20"
   ]
  },
  {
   "cell_type": "code",
   "execution_count": 18,
   "id": "211a1a00",
   "metadata": {},
   "outputs": [],
   "source": [
    "numpc = 20\n",
    "\n",
    "autovalori_test, autovettori_test, M_test = get_eigen(X_test)\n",
    "base_test, proiezioni_test = pca(M_test, autovettori_test, numpc=numpc)\n",
    "\n",
    "transformed_test_set = proiezioni_test.dot(base_test.T)\n",
    "\n",
    "autovalori_train, autovettori_train, M_train = get_eigen(X_train)\n",
    "base_train, proiezioni_train = pca(M_train, autovettori_train, numpc=numpc)\n",
    "\n",
    "transformed_train_set = proiezioni_train.dot(base_train.T)\n",
    "\n",
    "autovalori_val, autovettori_val, M_val = get_eigen(X_val)\n",
    "base_val, proiezioni_val = pca(M_val, autovettori_train, numpc=numpc)\n",
    "\n",
    "transformed_train_set = proiezioni_train.dot(base_val.T)"
   ]
  },
  {
   "cell_type": "code",
   "execution_count": 20,
   "id": "c800ef0a",
   "metadata": {},
   "outputs": [
    {
     "name": "stdout",
     "output_type": "stream",
     "text": [
      "Total explained variance (20): 0.9999982837301072\n"
     ]
    }
   ],
   "source": [
    "var_ratio = autovalori_train / autovalori_train.sum()\n",
    "print(\"Total explained variance (%d):\" % numpc, var_ratio[:numpc].sum())"
   ]
  },
  {
   "cell_type": "markdown",
   "id": "e48fd6a5",
   "metadata": {},
   "source": [
    "* Ciò permette di avere con la sola proiezione di 20 componentei una varianza di `0.99`, una ricostruzione quasi perfetta delle forme"
   ]
  },
  {
   "cell_type": "markdown",
   "id": "481047bb",
   "metadata": {},
   "source": [
    "* Disegno:"
   ]
  },
  {
   "cell_type": "code",
   "execution_count": 32,
   "id": "727e6995",
   "metadata": {},
   "outputs": [
    {
     "data": {
      "text/plain": [
       "<matplotlib.collections.PathCollection at 0x2653936da90>"
      ]
     },
     "execution_count": 32,
     "metadata": {},
     "output_type": "execute_result"
    },
    {
     "data": {
      "image/png": "[encoded data removed]",
      "text/plain": [
       "<Figure size 640x480 with 1 Axes>"
      ]
     },
     "metadata": {},
     "output_type": "display_data"
    }
   ],
   "source": [
    "\n",
    "i = np.random.randint(low=1, high=4000)\n",
    "\n",
    "projected = proiezioni_train.dot(base_train.T)\n",
    "projected_example_train = projected[i]\n",
    "transformed_example_train = projected_example_train.reshape(-1,2)\n",
    "\n",
    "orig = X_train[i].reshape(-1,2)\n",
    "x  = [orig[i][0] for i in range(orig.shape[0])]\n",
    "y  = [orig[i][1] for i in range(orig.shape[0])]\n",
    "ax1 = plt.subplot()\n",
    "ax1.set_title(\"Campione originale\")\n",
    "ax1.axis('equal')\n",
    "ax1.scatter(x,y)\n",
    "\n",
    "x_recon  = [transformed_example_train[i][0] for i in range(transformed_example_train.shape[0])]\n",
    "y_recon  = [transformed_example_train[i][1] for i in range(transformed_example_train.shape[0])]\n",
    "ax2 = plt.subplot()\n",
    "ax2.set_title(\"Confronto campione originale (blu) e campione ricostruito dopo PCA (Arancio)\")\n",
    "ax2.axis('equal')\n",
    "ax2.scatter(x_recon,y_recon)"
   ]
  },
  {
   "cell_type": "markdown",
   "id": "ec8e44f8",
   "metadata": {},
   "source": [
    "---"
   ]
  },
  {
   "cell_type": "markdown",
   "id": "c773760a",
   "metadata": {},
   "source": [
    "## Feature selection\n"
   ]
  },
  {
   "cell_type": "markdown",
   "id": "a0915f9e",
   "metadata": {},
   "source": [
    "* Sia gli alberi decisionali singoli (Decision Tree) sia gli ensemble basati su di essi (Random Forest) forniscono automaticamente una misura di importanza di ciascuna feature\n",
    "* Utilizziamo Random Forest"
   ]
  },
  {
   "cell_type": "code",
   "execution_count": 21,
   "id": "8bf4c09c",
   "metadata": {},
   "outputs": [
    {
     "data": {
      "text/html": [
       "<style>#sk-container-id-1 {\n",
       "  /* Definition of color scheme common for light and dark mode */\n",
       "  --sklearn-color-text: #000;\n",
       "  --sklearn-color-text-muted: #666;\n",
       "  --sklearn-color-line: gray;\n",
       "  /* Definition of color scheme for unfitted estimators */\n",
       "  --sklearn-color-unfitted-level-0: #fff5e6;\n",
       "  --sklearn-color-unfitted-level-1: #f6e4d2;\n",
       "  --sklearn-color-unfitted-level-2: #ffe0b3;\n",
       "  --sklearn-color-unfitted-level-3: chocolate;\n",
       "  /* Definition of color scheme for fitted estimators */\n",
       "  --sklearn-color-fitted-level-0: #f0f8ff;\n",
       "  --sklearn-color-fitted-level-1: #d4ebff;\n",
       "  --sklearn-color-fitted-level-2: #b3dbfd;\n",
       "  --sklearn-color-fitted-level-3: cornflowerblue;\n",
       "\n",
       "  /* Specific color for light theme */\n",
       "  --sklearn-color-text-on-default-background: var(--sg-text-color, var(--theme-code-foreground, var(--jp-content-font-color1, black)));\n",
       "  --sklearn-color-background: var(--sg-background-color, var(--theme-background, var(--jp-layout-color0, white)));\n",
       "  --sklearn-color-border-box: var(--sg-text-color, var(--theme-code-foreground, var(--jp-content-font-color1, black)));\n",
       "  --sklearn-color-icon: #696969;\n",
       "\n",
       "  @media (prefers-color-scheme: dark) {\n",
       "    /* Redefinition of color scheme for dark theme */\n",
       "    --sklearn-color-text-on-default-background: var(--sg-text-color, var(--theme-code-foreground, var(--jp-content-font-color1, white)));\n",
       "    --sklearn-color-background: var(--sg-background-color, var(--theme-background, var(--jp-layout-color0, #111)));\n",
       "    --sklearn-color-border-box: var(--sg-text-color, var(--theme-code-foreground, var(--jp-content-font-color1, white)));\n",
       "    --sklearn-color-icon: #878787;\n",
       "  }\n",
       "}\n",
       "\n",
       "#sk-container-id-1 {\n",
       "  color: var(--sklearn-color-text);\n",
       "}\n",
       "\n",
       "#sk-container-id-1 pre {\n",
       "  padding: 0;\n",
       "}\n",
       "\n",
       "#sk-container-id-1 input.sk-hidden--visually {\n",
       "  border: 0;\n",
       "  clip: rect(1px 1px 1px 1px);\n",
       "  clip: rect(1px, 1px, 1px, 1px);\n",
       "  height: 1px;\n",
       "  margin: -1px;\n",
       "  overflow: hidden;\n",
       "  padding: 0;\n",
       "  position: absolute;\n",
       "  width: 1px;\n",
       "}\n",
       "\n",
       "#sk-container-id-1 div.sk-dashed-wrapped {\n",
       "  border: 1px dashed var(--sklearn-color-line);\n",
       "  margin: 0 0.4em 0.5em 0.4em;\n",
       "  box-sizing: border-box;\n",
       "  padding-bottom: 0.4em;\n",
       "  background-color: var(--sklearn-color-background);\n",
       "}\n",
       "\n",
       "#sk-container-id-1 div.sk-container {\n",
       "  /* jupyter's `normalize.less` sets `[hidden] { display: none; }`\n",
       "     but bootstrap.min.css set `[hidden] { display: none !important; }`\n",
       "     so we also need the `!important` here to be able to override the\n",
       "     default hidden behavior on the sphinx rendered scikit-learn.org.\n",
       "     See: https://github.com/scikit-learn/scikit-learn/issues/21755 */\n",
       "  display: inline-block !important;\n",
       "  position: relative;\n",
       "}\n",
       "\n",
       "#sk-container-id-1 div.sk-text-repr-fallback {\n",
       "  display: none;\n",
       "}\n",
       "\n",
       "div.sk-parallel-item,\n",
       "div.sk-serial,\n",
       "div.sk-item {\n",
       "  /* draw centered vertical line to link estimators */\n",
       "  background-image: linear-gradient(var(--sklearn-color-text-on-default-background), var(--sklearn-color-text-on-default-background));\n",
       "  background-size: 2px 100%;\n",
       "  background-repeat: no-repeat;\n",
       "  background-position: center center;\n",
       "}\n",
       "\n",
       "/* Parallel-specific style estimator block */\n",
       "\n",
       "#sk-container-id-1 div.sk-parallel-item::after {\n",
       "  content: \"\";\n",
       "  width: 100%;\n",
       "  border-bottom: 2px solid var(--sklearn-color-text-on-default-background);\n",
       "  flex-grow: 1;\n",
       "}\n",
       "\n",
       "#sk-container-id-1 div.sk-parallel {\n",
       "  display: flex;\n",
       "  align-items: stretch;\n",
       "  justify-content: center;\n",
       "  background-color: var(--sklearn-color-background);\n",
       "  position: relative;\n",
       "}\n",
       "\n",
       "#sk-container-id-1 div.sk-parallel-item {\n",
       "  display: flex;\n",
       "  flex-direction: column;\n",
       "}\n",
       "\n",
       "#sk-container-id-1 div.sk-parallel-item:first-child::after {\n",
       "  align-self: flex-end;\n",
       "  width: 50%;\n",
       "}\n",
       "\n",
       "#sk-container-id-1 div.sk-parallel-item:last-child::after {\n",
       "  align-self: flex-start;\n",
       "  width: 50%;\n",
       "}\n",
       "\n",
       "#sk-container-id-1 div.sk-parallel-item:only-child::after {\n",
       "  width: 0;\n",
       "}\n",
       "\n",
       "/* Serial-specific style estimator block */\n",
       "\n",
       "#sk-container-id-1 div.sk-serial {\n",
       "  display: flex;\n",
       "  flex-direction: column;\n",
       "  align-items: center;\n",
       "  background-color: var(--sklearn-color-background);\n",
       "  padding-right: 1em;\n",
       "  padding-left: 1em;\n",
       "}\n",
       "\n",
       "\n",
       "/* Toggleable style: style used for estimator/Pipeline/ColumnTransformer box that is\n",
       "clickable and can be expanded/collapsed.\n",
       "- Pipeline and ColumnTransformer use this feature and define the default style\n",
       "- Estimators will overwrite some part of the style using the `sk-estimator` class\n",
       "*/\n",
       "\n",
       "/* Pipeline and ColumnTransformer style (default) */\n",
       "\n",
       "#sk-container-id-1 div.sk-toggleable {\n",
       "  /* Default theme specific background. It is overwritten whether we have a\n",
       "  specific estimator or a Pipeline/ColumnTransformer */\n",
       "  background-color: var(--sklearn-color-background);\n",
       "}\n",
       "\n",
       "/* Toggleable label */\n",
       "#sk-container-id-1 label.sk-toggleable__label {\n",
       "  cursor: pointer;\n",
       "  display: flex;\n",
       "  width: 100%;\n",
       "  margin-bottom: 0;\n",
       "  padding: 0.5em;\n",
       "  box-sizing: border-box;\n",
       "  text-align: center;\n",
       "  align-items: start;\n",
       "  justify-content: space-between;\n",
       "  gap: 0.5em;\n",
       "}\n",
       "\n",
       "#sk-container-id-1 label.sk-toggleable__label .caption {\n",
       "  font-size: 0.6rem;\n",
       "  font-weight: lighter;\n",
       "  color: var(--sklearn-color-text-muted);\n",
       "}\n",
       "\n",
       "#sk-container-id-1 label.sk-toggleable__label-arrow:before {\n",
       "  /* Arrow on the left of the label */\n",
       "  content: \"▸\";\n",
       "  float: left;\n",
       "  margin-right: 0.25em;\n",
       "  color: var(--sklearn-color-icon);\n",
       "}\n",
       "\n",
       "#sk-container-id-1 label.sk-toggleable__label-arrow:hover:before {\n",
       "  color: var(--sklearn-color-text);\n",
       "}\n",
       "\n",
       "/* Toggleable content - dropdown */\n",
       "\n",
       "#sk-container-id-1 div.sk-toggleable__content {\n",
       "  max-height: 0;\n",
       "  max-width: 0;\n",
       "  overflow: hidden;\n",
       "  text-align: left;\n",
       "  /* unfitted */\n",
       "  background-color: var(--sklearn-color-unfitted-level-0);\n",
       "}\n",
       "\n",
       "#sk-container-id-1 div.sk-toggleable__content.fitted {\n",
       "  /* fitted */\n",
       "  background-color: var(--sklearn-color-fitted-level-0);\n",
       "}\n",
       "\n",
       "#sk-container-id-1 div.sk-toggleable__content pre {\n",
       "  margin: 0.2em;\n",
       "  border-radius: 0.25em;\n",
       "  color: var(--sklearn-color-text);\n",
       "  /* unfitted */\n",
       "  background-color: var(--sklearn-color-unfitted-level-0);\n",
       "}\n",
       "\n",
       "#sk-container-id-1 div.sk-toggleable__content.fitted pre {\n",
       "  /* unfitted */\n",
       "  background-color: var(--sklearn-color-fitted-level-0);\n",
       "}\n",
       "\n",
       "#sk-container-id-1 input.sk-toggleable__control:checked~div.sk-toggleable__content {\n",
       "  /* Expand drop-down */\n",
       "  max-height: 200px;\n",
       "  max-width: 100%;\n",
       "  overflow: auto;\n",
       "}\n",
       "\n",
       "#sk-container-id-1 input.sk-toggleable__control:checked~label.sk-toggleable__label-arrow:before {\n",
       "  content: \"▾\";\n",
       "}\n",
       "\n",
       "/* Pipeline/ColumnTransformer-specific style */\n",
       "\n",
       "#sk-container-id-1 div.sk-label input.sk-toggleable__control:checked~label.sk-toggleable__label {\n",
       "  color: var(--sklearn-color-text);\n",
       "  background-color: var(--sklearn-color-unfitted-level-2);\n",
       "}\n",
       "\n",
       "#sk-container-id-1 div.sk-label.fitted input.sk-toggleable__control:checked~label.sk-toggleable__label {\n",
       "  background-color: var(--sklearn-color-fitted-level-2);\n",
       "}\n",
       "\n",
       "/* Estimator-specific style */\n",
       "\n",
       "/* Colorize estimator box */\n",
       "#sk-container-id-1 div.sk-estimator input.sk-toggleable__control:checked~label.sk-toggleable__label {\n",
       "  /* unfitted */\n",
       "  background-color: var(--sklearn-color-unfitted-level-2);\n",
       "}\n",
       "\n",
       "#sk-container-id-1 div.sk-estimator.fitted input.sk-toggleable__control:checked~label.sk-toggleable__label {\n",
       "  /* fitted */\n",
       "  background-color: var(--sklearn-color-fitted-level-2);\n",
       "}\n",
       "\n",
       "#sk-container-id-1 div.sk-label label.sk-toggleable__label,\n",
       "#sk-container-id-1 div.sk-label label {\n",
       "  /* The background is the default theme color */\n",
       "  color: var(--sklearn-color-text-on-default-background);\n",
       "}\n",
       "\n",
       "/* On hover, darken the color of the background */\n",
       "#sk-container-id-1 div.sk-label:hover label.sk-toggleable__label {\n",
       "  color: var(--sklearn-color-text);\n",
       "  background-color: var(--sklearn-color-unfitted-level-2);\n",
       "}\n",
       "\n",
       "/* Label box, darken color on hover, fitted */\n",
       "#sk-container-id-1 div.sk-label.fitted:hover label.sk-toggleable__label.fitted {\n",
       "  color: var(--sklearn-color-text);\n",
       "  background-color: var(--sklearn-color-fitted-level-2);\n",
       "}\n",
       "\n",
       "/* Estimator label */\n",
       "\n",
       "#sk-container-id-1 div.sk-label label {\n",
       "  font-family: monospace;\n",
       "  font-weight: bold;\n",
       "  display: inline-block;\n",
       "  line-height: 1.2em;\n",
       "}\n",
       "\n",
       "#sk-container-id-1 div.sk-label-container {\n",
       "  text-align: center;\n",
       "}\n",
       "\n",
       "/* Estimator-specific */\n",
       "#sk-container-id-1 div.sk-estimator {\n",
       "  font-family: monospace;\n",
       "  border: 1px dotted var(--sklearn-color-border-box);\n",
       "  border-radius: 0.25em;\n",
       "  box-sizing: border-box;\n",
       "  margin-bottom: 0.5em;\n",
       "  /* unfitted */\n",
       "  background-color: var(--sklearn-color-unfitted-level-0);\n",
       "}\n",
       "\n",
       "#sk-container-id-1 div.sk-estimator.fitted {\n",
       "  /* fitted */\n",
       "  background-color: var(--sklearn-color-fitted-level-0);\n",
       "}\n",
       "\n",
       "/* on hover */\n",
       "#sk-container-id-1 div.sk-estimator:hover {\n",
       "  /* unfitted */\n",
       "  background-color: var(--sklearn-color-unfitted-level-2);\n",
       "}\n",
       "\n",
       "#sk-container-id-1 div.sk-estimator.fitted:hover {\n",
       "  /* fitted */\n",
       "  background-color: var(--sklearn-color-fitted-level-2);\n",
       "}\n",
       "\n",
       "/* Specification for estimator info (e.g. \"i\" and \"?\") */\n",
       "\n",
       "/* Common style for \"i\" and \"?\" */\n",
       "\n",
       ".sk-estimator-doc-link,\n",
       "a:link.sk-estimator-doc-link,\n",
       "a:visited.sk-estimator-doc-link {\n",
       "  float: right;\n",
       "  font-size: smaller;\n",
       "  line-height: 1em;\n",
       "  font-family: monospace;\n",
       "  background-color: var(--sklearn-color-background);\n",
       "  border-radius: 1em;\n",
       "  height: 1em;\n",
       "  width: 1em;\n",
       "  text-decoration: none !important;\n",
       "  margin-left: 0.5em;\n",
       "  text-align: center;\n",
       "  /* unfitted */\n",
       "  border: var(--sklearn-color-unfitted-level-1) 1pt solid;\n",
       "  color: var(--sklearn-color-unfitted-level-1);\n",
       "}\n",
       "\n",
       ".sk-estimator-doc-link.fitted,\n",
       "a:link.sk-estimator-doc-link.fitted,\n",
       "a:visited.sk-estimator-doc-link.fitted {\n",
       "  /* fitted */\n",
       "  border: var(--sklearn-color-fitted-level-1) 1pt solid;\n",
       "  color: var(--sklearn-color-fitted-level-1);\n",
       "}\n",
       "\n",
       "/* On hover */\n",
       "div.sk-estimator:hover .sk-estimator-doc-link:hover,\n",
       ".sk-estimator-doc-link:hover,\n",
       "div.sk-label-container:hover .sk-estimator-doc-link:hover,\n",
       ".sk-estimator-doc-link:hover {\n",
       "  /* unfitted */\n",
       "  background-color: var(--sklearn-color-unfitted-level-3);\n",
       "  color: var(--sklearn-color-background);\n",
       "  text-decoration: none;\n",
       "}\n",
       "\n",
       "div.sk-estimator.fitted:hover .sk-estimator-doc-link.fitted:hover,\n",
       ".sk-estimator-doc-link.fitted:hover,\n",
       "div.sk-label-container:hover .sk-estimator-doc-link.fitted:hover,\n",
       ".sk-estimator-doc-link.fitted:hover {\n",
       "  /* fitted */\n",
       "  background-color: var(--sklearn-color-fitted-level-3);\n",
       "  color: var(--sklearn-color-background);\n",
       "  text-decoration: none;\n",
       "}\n",
       "\n",
       "/* Span, style for the box shown on hovering the info icon */\n",
       ".sk-estimator-doc-link span {\n",
       "  display: none;\n",
       "  z-index: 9999;\n",
       "  position: relative;\n",
       "  font-weight: normal;\n",
       "  right: .2ex;\n",
       "  padding: .5ex;\n",
       "  margin: .5ex;\n",
       "  width: min-content;\n",
       "  min-width: 20ex;\n",
       "  max-width: 50ex;\n",
       "  color: var(--sklearn-color-text);\n",
       "  box-shadow: 2pt 2pt 4pt #999;\n",
       "  /* unfitted */\n",
       "  background: var(--sklearn-color-unfitted-level-0);\n",
       "  border: .5pt solid var(--sklearn-color-unfitted-level-3);\n",
       "}\n",
       "\n",
       ".sk-estimator-doc-link.fitted span {\n",
       "  /* fitted */\n",
       "  background: var(--sklearn-color-fitted-level-0);\n",
       "  border: var(--sklearn-color-fitted-level-3);\n",
       "}\n",
       "\n",
       ".sk-estimator-doc-link:hover span {\n",
       "  display: block;\n",
       "}\n",
       "\n",
       "/* \"?\"-specific style due to the `<a>` HTML tag */\n",
       "\n",
       "#sk-container-id-1 a.estimator_doc_link {\n",
       "  float: right;\n",
       "  font-size: 1rem;\n",
       "  line-height: 1em;\n",
       "  font-family: monospace;\n",
       "  background-color: var(--sklearn-color-background);\n",
       "  border-radius: 1rem;\n",
       "  height: 1rem;\n",
       "  width: 1rem;\n",
       "  text-decoration: none;\n",
       "  /* unfitted */\n",
       "  color: var(--sklearn-color-unfitted-level-1);\n",
       "  border: var(--sklearn-color-unfitted-level-1) 1pt solid;\n",
       "}\n",
       "\n",
       "#sk-container-id-1 a.estimator_doc_link.fitted {\n",
       "  /* fitted */\n",
       "  border: var(--sklearn-color-fitted-level-1) 1pt solid;\n",
       "  color: var(--sklearn-color-fitted-level-1);\n",
       "}\n",
       "\n",
       "/* On hover */\n",
       "#sk-container-id-1 a.estimator_doc_link:hover {\n",
       "  /* unfitted */\n",
       "  background-color: var(--sklearn-color-unfitted-level-3);\n",
       "  color: var(--sklearn-color-background);\n",
       "  text-decoration: none;\n",
       "}\n",
       "\n",
       "#sk-container-id-1 a.estimator_doc_link.fitted:hover {\n",
       "  /* fitted */\n",
       "  background-color: var(--sklearn-color-fitted-level-3);\n",
       "}\n",
       "</style><div id=\"sk-container-id-1\" class=\"sk-top-container\"><div class=\"sk-text-repr-fallback\"><pre>RandomForestClassifier(random_state=0)</pre><b>In a Jupyter environment, please rerun this cell to show the HTML representation or trust the notebook. <br />On GitHub, the HTML representation is unable to render, please try loading this page with nbviewer.org.</b></div><div class=\"sk-container\" hidden><div class=\"sk-item\"><div class=\"sk-estimator fitted sk-toggleable\"><input class=\"sk-toggleable__control sk-hidden--visually\" id=\"sk-estimator-id-1\" type=\"checkbox\" checked><label for=\"sk-estimator-id-1\" class=\"sk-toggleable__label fitted sk-toggleable__label-arrow\"><div><div>RandomForestClassifier</div></div><div><a class=\"sk-estimator-doc-link fitted\" rel=\"noreferrer\" target=\"_blank\" href=\"https://scikit-learn.org/1.6/modules/generated/sklearn.ensemble.RandomForestClassifier.html\">?<span>Documentation for RandomForestClassifier</span></a><span class=\"sk-estimator-doc-link fitted\">i<span>Fitted</span></span></div></label><div class=\"sk-toggleable__content fitted\"><pre>RandomForestClassifier(random_state=0)</pre></div> </div></div></div></div>"
      ],
      "text/plain": [
       "RandomForestClassifier(random_state=0)"
      ]
     },
     "execution_count": 21,
     "metadata": {},
     "output_type": "execute_result"
    }
   ],
   "source": [
    "rf = RandomForestClassifier(n_estimators=100, random_state=0)\n",
    "rf.fit(X_train, y_train)"
   ]
  },
  {
   "cell_type": "markdown",
   "id": "c0abe947",
   "metadata": {},
   "source": [
    "* Dopo aver addestrato il modello sul train set, otteniamo le features più importanti, ottenute automaticamente dall'addestramento stesso"
   ]
  },
  {
   "cell_type": "code",
   "execution_count": 35,
   "id": "f169749a",
   "metadata": {},
   "outputs": [],
   "source": [
    "importances_rf = rf.feature_importances_"
   ]
  },
  {
   "cell_type": "markdown",
   "id": "af031c89",
   "metadata": {},
   "source": [
    "* Con questo metodo calcoliamo la soglia basata sul `percentile`:\n",
    "\n",
    "Percentile 10% → trattandosi di 10 componenti, il 10° percentile corrisponde all’importanza del secondo elemento ordinato;\n",
    "quindi mantieni le componenti dall’indice del 2° valore in poi (top 8 su 10 = 80 %).\n",
    "e"
   ]
  },
  {
   "cell_type": "code",
   "execution_count": null,
   "id": "806f1a38",
   "metadata": {},
   "outputs": [
    {
     "ename": "NameError",
     "evalue": "name 'importances_rf' is not defined",
     "output_type": "error",
     "traceback": [
      "\u001b[31m---------------------------------------------------------------------------\u001b[39m",
      "\u001b[31mNameError\u001b[39m                                 Traceback (most recent call last)",
      "\u001b[36mCell\u001b[39m\u001b[36m \u001b[39m\u001b[32mIn[33]\u001b[39m\u001b[32m, line 1\u001b[39m\n\u001b[32m----> \u001b[39m\u001b[32m1\u001b[39m threshold = np.percentile(\u001b[43mimportances_rf\u001b[49m, \u001b[32m10\u001b[39m)  \u001b[38;5;66;03m# top 90%\u001b[39;00m\n\u001b[32m      2\u001b[39m mask = importances_rf >= threshold\n\u001b[32m      3\u001b[39m \u001b[38;5;28mprint\u001b[39m(\u001b[33m\"\u001b[39m\u001b[33mComponenti mantenute:\u001b[39m\u001b[33m\"\u001b[39m, np.where(mask)[\u001b[32m0\u001b[39m])\n",
      "\u001b[31mNameError\u001b[39m: name 'importances_rf' is not defined"
     ]
    }
   ],
   "source": [
    "threshold = np.percentile(importances_rf, 10)  # top 90%\n",
    "mask = importances_rf >= threshold\n",
    "print(\"Componenti mantenute:\", np.where(mask)[0]) #Indicizzazione X[:, mask] filtra le colonne, riducendo dimensionalità e mantenendo solo quelle ritenute “importanti”.\n",
    "X_train_sel = X_train[:, mask]\n",
    "X_test_sel  = X_test[:,  mask]"
   ]
  },
  {
   "cell_type": "code",
   "execution_count": null,
   "id": "c67518d7",
   "metadata": {},
   "outputs": [
    {
     "data": {
      "text/plain": [
       "<matplotlib.collections.PathCollection at 0x1da32a8cf50>"
      ]
     },
     "execution_count": 57,
     "metadata": {},
     "output_type": "execute_result"
    },
    {
     "data": {
      "image/png": "[encoded data removed]",
      "text/plain": [
       "<Figure size 640x480 with 1 Axes>"
      ]
     },
     "metadata": {},
     "output_type": "display_data"
    }
   ],
   "source": [
    "i = np.random.randint(low=1, high=4000)\n",
    "\n",
    "projected_example_train = X_train_sel[i]\n",
    "transformed_example_train = projected_example_train.reshape(-1,2)\n",
    "\n",
    "orig = X_train[i].reshape(-1,2)\n",
    "x  = [orig[i][0] for i in range(orig.shape[0])]\n",
    "y  = [orig[i][1] for i in range(orig.shape[0])]\n",
    "ax1 = plt.subplot()\n",
    "ax1.set_title(\"Campione originale\")\n",
    "ax1.axis('equal')\n",
    "ax1.scatter(x,y)\n",
    "\n",
    "x_recon  = [transformed_example_train[i][0] for i in range(transformed_example_train.shape[0])]\n",
    "y_recon  = [transformed_example_train[i][1] for i in range(transformed_example_train.shape[0])]\n",
    "ax2 = plt.subplot()\n",
    "ax2.set_title(\"Confronto campione originale (blu) e campione ricostruito dopo feature selection (Arancio)\")\n",
    "ax2.axis('equal')\n",
    "ax2.scatter(x_recon,y_recon)"
   ]
  }
 ],
 "metadata": {
  "kernelspec": {
   "display_name": "Python 3",
   "language": "python",
   "name": "python3"
  },
  "language_info": {
   "codemirror_mode": {
    "name": "ipython",
    "version": 3
   },
   "file_extension": ".py",
   "mimetype": "text/x-python",
   "name": "python",
   "nbconvert_exporter": "python",
   "pygments_lexer": "ipython3",
   "version": "3.13.2"
  }
 },
 "nbformat": 4,
 "nbformat_minor": 5
}
